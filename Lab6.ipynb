{
  "nbformat": 4,
  "nbformat_minor": 0,
  "metadata": {
    "colab": {
      "provenance": []
    },
    "kernelspec": {
      "name": "python3",
      "display_name": "Python 3"
    },
    "language_info": {
      "name": "python"
    }
  },
  "cells": [
    {
      "cell_type": "code",
      "source": [
        "\n",
        "# Simulated Annealing Algorithm\n",
        "import numpy as np\n",
        "\n",
        "def calculate_attacks(position):\n",
        "    attacks = 0\n",
        "    n = len(position)\n",
        "\n",
        "    for i in range(n):\n",
        "        for j in range(i + 1, n):\n",
        "            if position[i] == position[j] or abs(position[i] - position[j]) == j - i:\n",
        "                attacks += 1\n",
        "    return attacks\n",
        "\n",
        "def simulated_annealing(n, max_iters=1000, initial_temp=100, cooling_rate=0.99):\n",
        "\n",
        "    current_position = np.random.permutation(n)\n",
        "    current_attacks = calculate_attacks(current_position)\n",
        "    temperature = initial_temp\n",
        "\n",
        "    for i in range(max_iters):\n",
        "        if current_attacks == 0:\n",
        "            break\n",
        "\n",
        "        new_position = current_position.copy()\n",
        "        i, j = np.random.choice(n, 2, replace=False)\n",
        "        new_position[i], new_position[j] = new_position[j], new_position[i]\n",
        "\n",
        "\n",
        "        new_attacks = calculate_attacks(new_position)\n",
        "\n",
        "\n",
        "        if new_attacks < current_attacks or np.random.rand() < np.exp((current_attacks - new_attacks) / temperature):\n",
        "            current_position = new_position\n",
        "            current_attacks = new_attacks\n",
        "\n",
        "        temperature *= cooling_rate\n",
        "\n",
        "    return current_position, current_attacks\n",
        "\n",
        "\n",
        "n = 8\n",
        "solution, attacks = simulated_annealing(n)\n",
        "\n",
        "print(\"Best position found:\", solution)\n",
        "print(\"Number of attacks:\", attacks)\n"
      ],
      "metadata": {
        "colab": {
          "base_uri": "https://localhost:8080/"
        },
        "id": "qOtWcVqyf35C",
        "outputId": "7f0412f7-d0ce-49b9-a139-7137da3d05e8"
      },
      "execution_count": 14,
      "outputs": [
        {
          "output_type": "stream",
          "name": "stdout",
          "text": [
            "Best position found: [0 5 7 2 6 3 1 4]\n",
            "Number of attacks: 0\n"
          ]
        }
      ]
    }
  ]
}