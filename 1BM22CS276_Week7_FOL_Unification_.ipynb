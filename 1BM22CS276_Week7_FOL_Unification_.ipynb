{
  "nbformat": 4,
  "nbformat_minor": 0,
  "metadata": {
    "colab": {
      "provenance": []
    },
    "kernelspec": {
      "name": "python3",
      "display_name": "Python 3"
    },
    "language_info": {
      "name": "python"
    }
  },
  "cells": [
    {
      "cell_type": "code",
      "source": [
        "# Define a function to apply substitutions to a list of terms\n",
        "def apply_substitution(terms, substitution):\n",
        "    return [substitution.get(term, term) for term in terms]\n",
        "\n",
        "# Function to check if a term is a variable (it assumes variables are single letters)\n",
        "def is_variable(term):\n",
        "    return term.isalpha()\n",
        "\n",
        "# Function to unify terms recursively\n",
        "def unify_terms(term1, term2, substitutions):\n",
        "    # Case 1: If both terms are the same, no substitution needed\n",
        "    if term1 == term2:\n",
        "        return term1, term2, substitutions\n",
        "\n",
        "    # Case 2: If one term is a variable and the other is not, substitute the variable with the term\n",
        "    elif is_variable(term1):\n",
        "        if term1 in substitutions:\n",
        "            return unify_terms(substitutions[term1], term2, substitutions)\n",
        "        substitutions[term1] = term2\n",
        "        return term2, term2, substitutions\n",
        "\n",
        "    elif is_variable(term2):\n",
        "        if term2 in substitutions:\n",
        "            return unify_terms(term1, substitutions[term2], substitutions)\n",
        "        substitutions[term2] = term1\n",
        "        return term1, term1, substitutions\n",
        "\n",
        "    # Case 3: If both terms are functions (e.g., f(g(Z)) and f(Y)), unify the inner terms\n",
        "    elif isinstance(term1, str) and term1.startswith('f(') and isinstance(term2, str) and term2.startswith('f('):\n",
        "        inner1 = term1[2:-1]  # Extract the argument inside f(...)\n",
        "        inner2 = term2[2:-1]  # Extract the argument inside f(...)\n",
        "        inner1, inner2, substitutions = unify_terms(inner1, inner2, substitutions)\n",
        "        return f\"f({inner1})\", f\"f({inner2})\", substitutions\n",
        "\n",
        "    else:\n",
        "        raise ValueError(f\"Cannot unify terms: {term1} and {term2}\")\n",
        "\n",
        "# Function to perform unification\n",
        "def unify(Ψ1, Ψ2):\n",
        "    substitutions = {}\n",
        "\n",
        "    # Ensure both terms have the same number of arguments\n",
        "    if len(Ψ1) != len(Ψ2):\n",
        "        raise ValueError(\"The terms have different numbers of arguments and cannot be unified.\")\n",
        "\n",
        "    # Unify corresponding arguments\n",
        "    for i in range(len(Ψ1)):\n",
        "        Ψ1[i], Ψ2[i], substitutions = unify_terms(Ψ1[i], Ψ2[i], substitutions)\n",
        "\n",
        "    return Ψ1, Ψ2, substitutions\n",
        "\n",
        "# Function to take user input and parse it\n",
        "def get_input():\n",
        "    print(\"Enter the first term (e.g., p(b, X, f(g(Z))):\")\n",
        "    term1 = input(\"Enter Ψ1: \")\n",
        "    print(\"Enter the second term (e.g., p(Z, f(Y), f(Y))):\")\n",
        "    term2 = input(\"Enter Ψ2: \")\n",
        "\n",
        "    # Convert the input strings into lists (representing the terms' arguments)\n",
        "    Ψ1 = term1[2:-1].split(', ')  # Extract arguments from the p(...) form\n",
        "    Ψ2 = term2[2:-1].split(', ')  # Extract arguments from the p(...) form\n",
        "\n",
        "    return Ψ1, Ψ2\n",
        "\n",
        "# Get input from the user\n",
        "Ψ1, Ψ2 = get_input()\n",
        "\n",
        "# Perform unification\n",
        "try:\n",
        "    unified_Ψ1, unified_Ψ2, final_substitution = unify(Ψ1, Ψ2)\n",
        "\n",
        "    print(\"\\nUnified Ψ1:\", unified_Ψ1)\n",
        "    print(\"Unified Ψ2:\", unified_Ψ2)\n",
        "    print(\"Final Substitution:\", final_substitution)\n",
        "except ValueError as e:\n",
        "    print(f\"Unification failed: {e}\")\n"
      ],
      "metadata": {
        "colab": {
          "base_uri": "https://localhost:8080/"
        },
        "id": "BW86VjfX3e8A",
        "outputId": "b0a4a91f-5bc7-44a9-b1f2-9ca883ecbd58"
      },
      "execution_count": 18,
      "outputs": [
        {
          "output_type": "stream",
          "name": "stdout",
          "text": [
            "Enter the first term (e.g., p(b, X, f(g(Z))):\n",
            "Enter Ψ1: p(b, X, f(g(Z)))\n",
            "Enter the second term (e.g., p(Z, f(Y), f(Y))):\n",
            "Enter Ψ2: p(Z, f(Y), f(Y))\n",
            "\n",
            "Unified Ψ1: ['Z', 'f(Y)', 'f(g(Z))']\n",
            "Unified Ψ2: ['Z', 'f(Y)', 'f(g(Z))']\n",
            "Final Substitution: {'b': 'Z', 'X': 'f(Y)', 'Y': 'g(Z)'}\n"
          ]
        }
      ]
    }
  ]
}